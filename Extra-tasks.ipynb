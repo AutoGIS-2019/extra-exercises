{
 "cells": [
  {
   "cell_type": "markdown",
   "metadata": {},
   "source": [
    "# Extra exercises\n",
    "\n",
    "Resources:\n",
    "- [geo-python.github.io](geo.python.github.io)\n",
    "- [autogis.github.io](autogis.github.io)\n",
    "- Pandas and Geopandas documentation\n",
    "- Various discussion forums, such as https://stackoverflow.com/"
   ]
  },
  {
   "cell_type": "markdown",
   "metadata": {},
   "source": [
    "## Import modules\n",
    "\n",
    "Import all required modules here at the top of the notebook:"
   ]
  },
  {
   "cell_type": "code",
   "execution_count": null,
   "metadata": {
    "deletable": false,
    "nbgrader": {
     "cell_type": "code",
     "checksum": "202ab5a5afe25d7ec0808f5573003717",
     "grade": false,
     "grade_id": "cell-508f372d35c28ba3",
     "locked": false,
     "schema_version": 3,
     "solution": true,
     "task": false
    }
   },
   "outputs": [],
   "source": [
    "# REPLACE THE ERROR BELOW WITH YOUR OWN CODE\n",
    "raise NotImplementedError()"
   ]
  },
  {
   "cell_type": "markdown",
   "metadata": {},
   "source": [
    "### List files\n",
    "\n",
    "\n",
    "<div class=\"alert alert-info\">\n",
    "    \n",
    "Create a function called `list_files()` that lists files based on their file type in a spesific folder. \n",
    "\n",
    "The function should have two input paramenters; \n",
    "-  folder path (str)\n",
    "- file type extension (str)\n",
    "\n",
    "</div>\n",
    "\n",
    "\n",
    "See example function usage in the tests below."
   ]
  },
  {
   "cell_type": "markdown",
   "metadata": {},
   "source": [
    "- Define your function here: "
   ]
  },
  {
   "cell_type": "code",
   "execution_count": null,
   "metadata": {
    "deletable": false,
    "nbgrader": {
     "cell_type": "code",
     "checksum": "3d9fda1ba348b914731a50792a07a679",
     "grade": false,
     "grade_id": "cell-4f1a1455e4214365",
     "locked": false,
     "schema_version": 3,
     "solution": true,
     "task": false
    }
   },
   "outputs": [],
   "source": [
    "# REPLACE THE ERROR BELOW WITH YOUR OWN CODE\n",
    "raise NotImplementedError()"
   ]
  },
  {
   "cell_type": "markdown",
   "metadata": {},
   "source": [
    "- Demonstrate the usage of the function:"
   ]
  },
  {
   "cell_type": "code",
   "execution_count": null,
   "metadata": {},
   "outputs": [],
   "source": [
    "shapefiles = list_files(\"data\", \"shp\")\n",
    "print(shapefiles)"
   ]
  },
  {
   "cell_type": "markdown",
   "metadata": {},
   "source": [
    "- Test your function by running these code cells (your function works correctly if the code cells run without errors):"
   ]
  },
  {
   "cell_type": "code",
   "execution_count": null,
   "metadata": {
    "deletable": false,
    "editable": false,
    "nbgrader": {
     "cell_type": "code",
     "checksum": "50ab76e0a44d07a6cb57960da8ba291a",
     "grade": true,
     "grade_id": "cell-c59cce9e810df0fa",
     "locked": true,
     "points": 0,
     "schema_version": 3,
     "solution": false,
     "task": false
    }
   },
   "outputs": [],
   "source": [
    "# NON-EDITABLE TEST CELL\n",
    "\n",
    "# List shapefiles in data folder\n",
    "shapefiles = list_files(\"data\", \"shp\")\n",
    "\n",
    "# Check that the output is correct\n",
    "assert len(shapefiles) == 1, \"The function should find one shapefile from the data folder.\"\n",
    "assert os.path.basename(shapefiles[0]) == 'MetropAccess_YKR_grid_EurefFIN.shp', \"Incorrect file name.\""
   ]
  },
  {
   "cell_type": "code",
   "execution_count": null,
   "metadata": {
    "deletable": false,
    "editable": false,
    "nbgrader": {
     "cell_type": "code",
     "checksum": "2aef00d6b062a902a0dd488238571501",
     "grade": true,
     "grade_id": "cell-599af440303e4caa",
     "locked": true,
     "points": 0,
     "schema_version": 3,
     "solution": false,
     "task": false
    }
   },
   "outputs": [],
   "source": [
    "# NON-EDITABLE TEST CELL\n",
    "\n",
    "# List text files in data folder\n",
    "textfiles = list_files(\"data\", \"txt\")\n",
    "\n",
    "# Check that the output is correct\n",
    "assert len(textfiles) == 7, \"The function should find seven text files from the data folder.\"\n",
    "assert any(['TravelTimes_to_5878070_Jumbo.txt' == os.path.basename(file) for file in textfiles]) , \"Incorrect file list.\""
   ]
  },
  {
   "cell_type": "code",
   "execution_count": null,
   "metadata": {
    "deletable": false,
    "editable": false,
    "nbgrader": {
     "cell_type": "code",
     "checksum": "8f264e036e5666b6506d2d2eab11766f",
     "grade": true,
     "grade_id": "cell-7a7714366b2ad67d",
     "locked": true,
     "points": 0,
     "schema_version": 3,
     "solution": false,
     "task": false
    }
   },
   "outputs": [],
   "source": [
    "# List text files in data folder\n",
    "notebooks = list_files(\"\", \"ipynb\")\n",
    "\n",
    "# Check that the output is correct\n",
    "assert len(notebooks) == 1, \"The function should find one Jupyter Notebook from the root folder.\"\n",
    "assert os.path.basename(notebooks[0]) == 'Extra-tasks.ipynb', \"Incorrect file name.\""
   ]
  },
  {
   "cell_type": "markdown",
   "metadata": {},
   "source": [
    "### Counting values"
   ]
  },
  {
   "cell_type": "markdown",
   "metadata": {},
   "source": [
    "\n",
    "\n",
    "<div class=\"alert alert-info\">\n",
    "    \n",
    "Create a function called `count_values()` that counts how many times spesific value occurs in a spesific column of a Pandas DataFrame\n",
    "\n",
    "Then function should have three input parameters:\n",
    "- input table (Pandas DataFrame)\n",
    "- selected column (str)\n",
    "- selected value (int)\n",
    "\n",
    "</div>\n",
    "\n",
    "\n",
    "See example function usage in the tests below.\n",
    "    "
   ]
  },
  {
   "cell_type": "markdown",
   "metadata": {},
   "source": [
    "- Define your function here: "
   ]
  },
  {
   "cell_type": "code",
   "execution_count": null,
   "metadata": {
    "deletable": false,
    "nbgrader": {
     "cell_type": "code",
     "checksum": "d6c0ff5e9bd28c40b328547628ce1f72",
     "grade": false,
     "grade_id": "cell-14a7f3e3a254a815",
     "locked": false,
     "schema_version": 3,
     "solution": true,
     "task": false
    }
   },
   "outputs": [],
   "source": [
    "# REPLACE THE ERROR BELOW WITH YOUR OWN CODE\n",
    "raise NotImplementedError()"
   ]
  },
  {
   "cell_type": "markdown",
   "metadata": {},
   "source": [
    "- Demonstrate the usage of the function:"
   ]
  },
  {
   "cell_type": "code",
   "execution_count": null,
   "metadata": {},
   "outputs": [],
   "source": [
    "# Read in one of the text files listed in the previous step\n",
    "data = pd.read_csv(textfiles[0], sep=\";\")\n",
    "\n",
    "# Count how many times -1 occurs in column \"car_r_t\"\n",
    "print(count_values(data, \"car_r_t\", -1))\n",
    "print(count_values(data, \"pt_r_t\", -1))"
   ]
  },
  {
   "cell_type": "markdown",
   "metadata": {},
   "source": [
    "- Test your function by running these code cells (your function works correctly if the code cells run without errors):"
   ]
  },
  {
   "cell_type": "code",
   "execution_count": null,
   "metadata": {
    "deletable": false,
    "editable": false,
    "nbgrader": {
     "cell_type": "code",
     "checksum": "854eb0714992a95e527b50b3896e590d",
     "grade": true,
     "grade_id": "cell-9adac3c70ce0c3ad",
     "locked": true,
     "points": 0,
     "schema_version": 3,
     "solution": false,
     "task": false
    }
   },
   "outputs": [],
   "source": [
    "# NON-EDITABLE TEST CELL\n",
    "\n",
    "# Read in one of the text files listed in the previous step\n",
    "data = pd.read_csv(textfiles[0], sep=\";\")\n",
    "\n",
    "# Check correct value counts\n",
    "assert count_values(data, \"car_r_t\", -1) == 91, \"-1 occurs 91 times in column car_r_t\"\n",
    "assert count_values(data, \"pt_r_t\", -1) == 211, \"-1 occurs 211 times in column pt_r_t\"\n"
   ]
  },
  {
   "cell_type": "code",
   "execution_count": null,
   "metadata": {
    "deletable": false,
    "editable": false,
    "nbgrader": {
     "cell_type": "code",
     "checksum": "1dd2f3c1dbbf2f8c3c750826451625fc",
     "grade": true,
     "grade_id": "cell-e67d721e9da4bd33",
     "locked": true,
     "points": 0,
     "schema_version": 3,
     "solution": false,
     "task": false
    }
   },
   "outputs": [],
   "source": [
    "# NON-EDITABLE TEST CELL\n",
    "assert count_values(data, \"car_r_t\", 0) == 1, \"0 occurs 1 times in column car_r_t\"\n",
    "assert count_values(data, \"pt_r_t\", 0) == 1, \"0 occurs 1 times in column pt_r_t\""
   ]
  },
  {
   "cell_type": "markdown",
   "metadata": {},
   "source": [
    "### Counting no data values\n",
    "\n",
    "<div class=\"alert alert-info\">\n",
    "    \n",
    "Create a function called `count_no_data_values()` that counts how many NO DATA values (`None` or `numpy.nan`) there are in a spesific column of a spesific table.\n",
    "\n",
    "Then function should have two input parameters:\n",
    "- input table (Pandas DataFrame)\n",
    "- selected column (str)\n",
    "\n",
    "**The function should also work IF there are no NO DATA values in the spesific column**. In this case, it should return zero (0).\n",
    "\n",
    "</div>\n",
    "\n",
    "See example function usage in the tests below."
   ]
  },
  {
   "cell_type": "markdown",
   "metadata": {},
   "source": [
    "- Define your function here: "
   ]
  },
  {
   "cell_type": "code",
   "execution_count": null,
   "metadata": {
    "deletable": false,
    "nbgrader": {
     "cell_type": "code",
     "checksum": "55c3f927f8fc58d58edff1cefbd62bfc",
     "grade": false,
     "grade_id": "cell-77de70ecf04a07c8",
     "locked": false,
     "schema_version": 3,
     "solution": true,
     "task": false
    }
   },
   "outputs": [],
   "source": [
    "# REPLACE THE ERROR BELOW WITH YOUR OWN CODE\n",
    "raise NotImplementedError()"
   ]
  },
  {
   "cell_type": "markdown",
   "metadata": {},
   "source": [
    "- Demonstrate the usage of the function:"
   ]
  },
  {
   "cell_type": "code",
   "execution_count": null,
   "metadata": {},
   "outputs": [],
   "source": [
    "# Read in one of the text files listed in the previous step\n",
    "data = pd.read_csv(textfiles[0], sep=\";\")\n",
    "\n",
    "# Replace -1 (which is the no data value in the travel time matrix) with None (or numpy.nan)\n",
    "data.replace({-1 : None}, inplace=True)\n",
    "\n",
    "# Count how many times -1 occurs in column \"car_r_t\"\n",
    "print(count_no_data_values(data, \"car_r_t\"))"
   ]
  },
  {
   "cell_type": "markdown",
   "metadata": {},
   "source": [
    "- Test your function by running these code cells (your function works correctly if the code cells run without errors):"
   ]
  },
  {
   "cell_type": "code",
   "execution_count": null,
   "metadata": {
    "deletable": false,
    "editable": false,
    "nbgrader": {
     "cell_type": "code",
     "checksum": "c94c7de6c6d3b394bee3fc8ebb479fd8",
     "grade": true,
     "grade_id": "cell-6aa50fe75955ff91",
     "locked": true,
     "points": 0,
     "schema_version": 3,
     "solution": false,
     "task": false
    }
   },
   "outputs": [],
   "source": [
    "# NON-EDITABLE TEST CELL\n",
    "\n",
    "# Read in one of the text files listed in the previous step\n",
    "data = pd.read_csv(textfiles[0], sep=\";\")\n",
    "\n",
    "# Replace -1 (which is the no data value in the travel time matrix) with None (or numpy.nan)\n",
    "data.replace({-1 : None}, inplace=True)\n",
    "\n",
    "# Count how many selected values occur in selected columns\n",
    "assert count_no_data_values(data, \"car_r_t\") == 91, \"NO DATA occurs 91 times in column car_r_t\"\n",
    "assert count_no_data_values(data, \"pt_r_t\") == 211, \"NO DATA occurs 211 times in column pt_r_t\""
   ]
  },
  {
   "cell_type": "code",
   "execution_count": null,
   "metadata": {
    "deletable": false,
    "editable": false,
    "nbgrader": {
     "cell_type": "code",
     "checksum": "8e0f1626a81c18055ee8986f4619d1d3",
     "grade": true,
     "grade_id": "cell-2bea362a26c5c372",
     "locked": true,
     "points": 0,
     "schema_version": 3,
     "solution": false,
     "task": false
    }
   },
   "outputs": [],
   "source": [
    "# NON-EDITABLE TEST CELL\n",
    "\n",
    "# Read in one of the text files listed in the previous step\n",
    "data = pd.read_csv(textfiles[0], sep=\";\")\n",
    "\n",
    "# NOT REPLACING -1 WITH NO DATA! \n",
    "\n",
    "# Count how many selected values occur in selected columns\n",
    "assert count_no_data_values(data, \"car_r_t\") == 0, \"There should be no NO DATA in this column.\"\n",
    "assert count_no_data_values(data, \"pt_r_t\") == 0, \"There should be no NO DATA in this column.\""
   ]
  },
  {
   "cell_type": "markdown",
   "metadata": {},
   "source": [
    "### Check projection\n",
    "\n",
    "\n",
    "\n",
    "<div class=\"alert alert-info\">\n",
    "    \n",
    "Create a function called `check_epsg()` that checks if the coordinate reference system of a geodataframe matches a specified epsg code. The function should return `True` (boolean value) if the crs matches, and `False`if it does not match.\n",
    "\n",
    "\n",
    "Then function should have two input parameters:\n",
    "- input layer (geopandas GeoDataFrame)\n",
    "- epsg code (int)\n",
    "\n",
    "</div>\n"
   ]
  },
  {
   "cell_type": "markdown",
   "metadata": {},
   "source": [
    "- Define your function here: "
   ]
  },
  {
   "cell_type": "code",
   "execution_count": null,
   "metadata": {
    "deletable": false,
    "nbgrader": {
     "cell_type": "code",
     "checksum": "7063fcbef6c07a321d52e35ba20bfc72",
     "grade": false,
     "grade_id": "cell-5feb3baf1103395b",
     "locked": false,
     "schema_version": 3,
     "solution": true,
     "task": false
    }
   },
   "outputs": [],
   "source": [
    "# REPLACE THE ERROR BELOW WITH YOUR OWN CODE\n",
    "raise NotImplementedError()"
   ]
  },
  {
   "cell_type": "markdown",
   "metadata": {},
   "source": [
    "- Demonstrate the usage of the function:"
   ]
  },
  {
   "cell_type": "code",
   "execution_count": null,
   "metadata": {},
   "outputs": [],
   "source": [
    "#Read in a shapefile\n",
    "data = gpd.read_file(shapefiles[0])\n",
    "\n",
    "# Compare data's crs with epsg 2067\n",
    "check_epsg(data, 3067)"
   ]
  },
  {
   "cell_type": "code",
   "execution_count": null,
   "metadata": {},
   "outputs": [],
   "source": [
    "# Compare data's crs with epsg 3857\n",
    "check_epsg(data, 3857)"
   ]
  },
  {
   "cell_type": "markdown",
   "metadata": {},
   "source": [
    "- Test your function by running these code cells (your function works correctly if the code cells run without errors):"
   ]
  },
  {
   "cell_type": "code",
   "execution_count": null,
   "metadata": {
    "deletable": false,
    "editable": false,
    "nbgrader": {
     "cell_type": "code",
     "checksum": "a80daea8cb89078f7efc30cb10af1f72",
     "grade": true,
     "grade_id": "cell-4f8eba09960f0f15",
     "locked": true,
     "points": 0,
     "schema_version": 3,
     "solution": false,
     "task": false
    }
   },
   "outputs": [],
   "source": [
    "\n",
    "# NON-EDITABLE TEST CELL\n",
    "#Read in a shapefile\n",
    "data = gpd.read_file(shapefiles[0])\n",
    "\n",
    "# Count how many selected values occur in selected columns\n",
    "assert check_epsg(data, 3067), \"Data crs should match with epsg 3067\"\n",
    "assert not check_epsg(data, 3857), \"Data crs should not match with epsg 3857\""
   ]
  },
  {
   "cell_type": "markdown",
   "metadata": {},
   "source": [
    "### Re-project data\n",
    "\n",
    "\n",
    "\n",
    "\n",
    "\n",
    "\n",
    "\n",
    "<div class=\"alert alert-info\">\n",
    "    \n",
    "Create a function called `reproject_layer()` that does the following:\n",
    "    \n",
    "- checks if the input layer has a crs definition. \n",
    "    - If no crs is defined (`layer.crs=\"\"` or `layer.crs=None`) , the function throws an assertion error and stops the process.\n",
    "- checks if the crs of the input layer matches with the specified epsg code\n",
    "    - if the crs does not match, the input layer is reprojected into the specified epsg and the function returns the re-projected layer\n",
    "    - if the crs matches with the specified epsg code, then the function returns the original input layer (you can also add an informative message about this)\n",
    "\n",
    "\n",
    "Then function should have two input parameters:\n",
    "- input layer (geopandas GeoDataFrame)\n",
    "- epsg code (int)\n",
    "\n",
    "**Note: you can use `check_epsg()`function inside this function**\n",
    "\n",
    "</div>\n"
   ]
  },
  {
   "cell_type": "markdown",
   "metadata": {},
   "source": [
    "- Define your function here: "
   ]
  },
  {
   "cell_type": "code",
   "execution_count": null,
   "metadata": {
    "deletable": false,
    "nbgrader": {
     "cell_type": "code",
     "checksum": "e87bd327101d8e71a0898c46800cb46c",
     "grade": false,
     "grade_id": "cell-b88dfde59260c965",
     "locked": false,
     "schema_version": 3,
     "solution": true,
     "task": false
    }
   },
   "outputs": [],
   "source": [
    "# REPLACE THE ERROR BELOW WITH YOUR OWN CODE\n",
    "raise NotImplementedError()"
   ]
  },
  {
   "cell_type": "markdown",
   "metadata": {},
   "source": [
    "- Demonstrate the usage of the function:"
   ]
  },
  {
   "cell_type": "code",
   "execution_count": null,
   "metadata": {},
   "outputs": [],
   "source": [
    "#Read in a shapefile\n",
    "data = gpd.read_file(shapefiles[0])\n",
    "\n",
    "# Reproject the layer to epsg:3857 using the function\n",
    "reprojected_data = reproject_layer(data, 3857)\n",
    "reprojected_data.head()"
   ]
  },
  {
   "cell_type": "code",
   "execution_count": null,
   "metadata": {
    "deletable": false,
    "editable": false,
    "nbgrader": {
     "cell_type": "code",
     "checksum": "8fadda9e61a0d4e3b9bbb637bfeaddf3",
     "grade": true,
     "grade_id": "cell-3199f13baa24e814",
     "locked": true,
     "points": 0,
     "schema_version": 3,
     "solution": false,
     "task": false
    }
   },
   "outputs": [],
   "source": [
    "# NON-EDITABLE TEST CELL\n",
    "\n",
    "#Read in a shapefile\n",
    "data = gpd.read_file(shapefiles[0])\n",
    "\n",
    "# Use the function to it's own epsg\n",
    "result = reproject_layer(data, 3067)\n",
    "\n",
    "# Check that original and result geometries match\n",
    "assert all(result[\"geometry\"] == data[\"geometry\"]), \"Values should be the same!\""
   ]
  },
  {
   "cell_type": "code",
   "execution_count": null,
   "metadata": {
    "deletable": false,
    "editable": false,
    "nbgrader": {
     "cell_type": "code",
     "checksum": "a66cb4accf7845d490b946366982f545",
     "grade": true,
     "grade_id": "cell-61e276ab0476982c",
     "locked": true,
     "points": 0,
     "schema_version": 3,
     "solution": false,
     "task": false
    }
   },
   "outputs": [],
   "source": [
    "# NON-EDITABLE TEST CELL\n",
    "\n",
    "#Read in a shapefile\n",
    "data = gpd.read_file(shapefiles[0])\n",
    "\n",
    "# Set data crs as None\n",
    "data.crs = None\n",
    "\n",
    "# Try to apply the function, error message will be printed on the screen if the process fails\n",
    "try: \n",
    "    result = reproject_layer(data, 3067)\n",
    "\n",
    "except AssertionError as msg:\n",
    "    print(msg)"
   ]
  },
  {
   "cell_type": "code",
   "execution_count": null,
   "metadata": {
    "deletable": false,
    "editable": false,
    "nbgrader": {
     "cell_type": "code",
     "checksum": "9efe419f5227b357f361aa5a8aa19af8",
     "grade": true,
     "grade_id": "cell-232d59fe1dc02687",
     "locked": true,
     "points": 0,
     "schema_version": 3,
     "solution": false,
     "task": false
    }
   },
   "outputs": [],
   "source": [
    "# NON-EDITABLE TEST CELL\n",
    "#Read in a shapefile\n",
    "data = gpd.read_file(shapefiles[0])\n",
    "\n",
    "# Set data crs as None\n",
    "data.crs = \"\"\n",
    "\n",
    "# Try to apply the function\n",
    "try: \n",
    "    \n",
    "    result = reproject_layer(data, 3067)\n",
    "\n",
    "except AssertionError as msg:\n",
    "    # Error message will be printed on the screen if the process fails\n",
    "    print(msg)"
   ]
  }
 ],
 "metadata": {
  "kernelspec": {
   "display_name": "Python 3",
   "language": "python",
   "name": "python3"
  },
  "language_info": {
   "codemirror_mode": {
    "name": "ipython",
    "version": 3
   },
   "file_extension": ".py",
   "mimetype": "text/x-python",
   "name": "python",
   "nbconvert_exporter": "python",
   "pygments_lexer": "ipython3",
   "version": "3.7.4"
  }
 },
 "nbformat": 4,
 "nbformat_minor": 4
}
