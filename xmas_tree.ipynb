{
 "cells": [
  {
   "cell_type": "markdown",
   "metadata": {},
   "source": [
    "# Extra exercises 2"
   ]
  },
  {
   "cell_type": "markdown",
   "metadata": {},
   "source": [
    "### Simple xmas tree\n",
    "\n",
    "Create a function `make_xmas_tree()`that plots a spruce:\n",
    "\n",
    "\n",
    "         *\n",
    "        ***\n",
    "       *****\n",
    "      *******\n",
    "     *********\n",
    "     \n",
    "The function should be able to create different size trees. Input parameter three should produce this:\n",
    "   \n",
    "       *\n",
    "      ***\n",
    "     *****\n",
    "     \n",
    "\n",
    "The function should have one input paramenter (int) that specifies how many rows the tree has. There should be no whitespace on the bottom row."
   ]
  },
  {
   "cell_type": "markdown",
   "metadata": {},
   "source": [
    "- Define your function here: "
   ]
  },
  {
   "cell_type": "code",
   "execution_count": null,
   "metadata": {
    "deletable": false,
    "nbgrader": {
     "cell_type": "code",
     "checksum": "4eecba74f1d8019e70b6b5702ef82e1d",
     "grade": false,
     "grade_id": "cell-66948068ef06bb07",
     "locked": false,
     "schema_version": 3,
     "solution": true,
     "task": false
    }
   },
   "outputs": [],
   "source": [
    "# REPLACE THE ERROR BELOW WITH YOUR OWN CODE\n",
    "raise NotImplementedError()"
   ]
  },
  {
   "cell_type": "markdown",
   "metadata": {},
   "source": [
    "- Demonstrate the usage of the function:"
   ]
  },
  {
   "cell_type": "code",
   "execution_count": null,
   "metadata": {},
   "outputs": [],
   "source": [
    "small_spruce = make_xmas_tree(3)\n",
    "print(small_spruce)"
   ]
  },
  {
   "cell_type": "code",
   "execution_count": null,
   "metadata": {},
   "outputs": [],
   "source": [
    "big_spruce = make_xmas_tree(30)\n",
    "print(big_spruce)"
   ]
  },
  {
   "cell_type": "markdown",
   "metadata": {},
   "source": [
    "- Test your function by running these code cells (your function works correctly if the code cells run without errors):"
   ]
  },
  {
   "cell_type": "code",
   "execution_count": null,
   "metadata": {
    "deletable": false,
    "editable": false,
    "nbgrader": {
     "cell_type": "code",
     "checksum": "5df8b23a3cea2fbc7e7fd6d6298ef3ff",
     "grade": true,
     "grade_id": "cell-11e68e7fcfea740c",
     "locked": true,
     "points": 0,
     "schema_version": 3,
     "solution": false,
     "task": false
    }
   },
   "outputs": [],
   "source": [
    "# Create a spruce\n",
    "small_spruce = make_xmas_tree(3)\n",
    "\n",
    "# Check the result\n",
    "assert small_spruce ==  '  *\\n ***\\n*****\\n', \"wrong kind of xmas tree!\""
   ]
  },
  {
   "cell_type": "code",
   "execution_count": null,
   "metadata": {},
   "outputs": [],
   "source": [
    "# Create a spruce\n",
    "medium_spruce = make_xmas_tree(12)\n",
    "\n",
    "# Check the result\n",
    "assert medium_spruce == '           *\\n          ***\\n         *****\\n        *******\\n       *********\\n      ***********\\n     *************\\n    ***************\\n   *****************\\n  *******************\\n *********************\\n***********************\\n', \"Wrong kind of xmas tree!\""
   ]
  }
 ],
 "metadata": {
  "kernelspec": {
   "display_name": "Python 3",
   "language": "python",
   "name": "python3"
  },
  "language_info": {
   "codemirror_mode": {
    "name": "ipython",
    "version": 3
   },
   "file_extension": ".py",
   "mimetype": "text/x-python",
   "name": "python",
   "nbconvert_exporter": "python",
   "pygments_lexer": "ipython3",
   "version": "3.7.4"
  }
 },
 "nbformat": 4,
 "nbformat_minor": 2
}
